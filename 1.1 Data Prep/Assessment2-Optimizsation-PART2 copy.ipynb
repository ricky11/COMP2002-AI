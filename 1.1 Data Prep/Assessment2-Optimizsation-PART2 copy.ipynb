{
 "cells": [
  {
   "attachments": {},
   "cell_type": "markdown",
   "metadata": {},
   "source": [
    "# PART 2 - OPTIMIZATION"
   ]
  },
  {
   "attachments": {},
   "cell_type": "markdown",
   "metadata": {},
   "source": [
    "*Similar to the traveling sales man problem, this is a circular route. Each of the three ferries are to visit 12 stops[0-11] which will be randomly split into 3 groups of 4 stops.  The first departure port will be the origin port, followed by 3 other stops and finally back to origin, hence completing the circuit. A->B->C->D->A*\n",
    "\n",
    "Given a 12x12 matrix there are 12! possible route combinations. We need a way to generate the route using a optimization technique using a Genetic Algorithm.\n",
    "\n",
    "This is a multi objective problem, minimizing both the travel distance as well as ensuring routes are of equal length.\n",
    "\n",
    "No benchmark test case was provided, hence we do not know for sure if we have reached the right answer. "
   ]
  },
  {
   "attachments": {},
   "cell_type": "markdown",
   "metadata": {},
   "source": [
    "## Task 2.1 Generation of random solutions"
   ]
  },
  {
   "attachments": {},
   "cell_type": "markdown",
   "metadata": {},
   "source": [
    "- Load the data\n",
    "- Import libraries\n",
    "- Add headings\n",
    "- Setup data frames\n",
    "- Display the matrix, fitness of a random route\n",
    "\n",
    "Data has been recorded in scientific notation, and will be converted to float using Padnas read_csv library."
   ]
  },
  {
   "cell_type": "code",
   "execution_count": null,
   "metadata": {},
   "outputs": [],
   "source": [
    "import pandas as pd\n",
    "import matplotlib.pyplot as plt\n",
    "import numpy as np\n",
    "pd.set_option('display.max_colwidth', 100) # Sets max coloumn with for displaying dataframes\n",
    "try:\n",
    "    stops_cols = [\"Longitude\", \"Latitude\"]\n",
    "    stops = pd.read_csv('stops.csv',names=stops_cols)\n",
    "    distances_cols = ['stop0','stop1','stop2','stop3','stop4','stop5','stop6','stop7','stop8','stop9','stop10','stop11']\n",
    "    distances = pd.read_csv('distances.csv',names=distances_cols)\n",
    "    distance_matrix = distances.to_numpy()\n",
    "    display(stops,distances)\n",
    "except Exception as e:\n",
    "  print(\"There was an error loading the file, make sure it is in root: \",e)"
   ]
  },
  {
   "attachments": {},
   "cell_type": "markdown",
   "metadata": {},
   "source": [
    "**Point of interest**: It is assumed that the *stops.csv* file contains coordinates in scientific notation of latitude and longitude.  In an attempt to familiarize myself with the dataset, plotting the stops would visually help in understanding the optimization problem. It was noted that the stops are located near the coast of West Africa, an interesting choice. However when mapping the distances between the stops and tallying the distances with the matrix provided, I was unable to reach the same measurement. It is possible that the distance matrix is stored in a metric other then KM, perhaps earth radius. \n",
    "\n",
    "Nevertheless in this scenario, only the number of stops are relevant and not their precise location. In a real world setting, assuring data accuracy and inconsistencies would be the first step before Optimization.\n",
    "\n",
    "[Map link on github](https://raw.githubusercontent.com/ricky11/COMP2002-AI/master/1.1%20Data%20Prep/mappeddata.png?token=GHSAT0AAAAAACBDTAHDAQBIRPXKFU56L5A4ZDDF52Q).\n",
    "\n",
    "![image](https://raw.githubusercontent.com/ricky11/COMP2002-AI/master/1.1%20Data%20Prep/mappeddata.png?token=GHSAT0AAAAAACBDTAHDAQBIRPXKFU56L5A4ZDDF52Q)\n",
    "\n",
    "\n",
    "\n"
   ]
  },
  {
   "attachments": {},
   "cell_type": "markdown",
   "metadata": {},
   "source": [
    "- Generate Random Solution"
   ]
  },
  {
   "attachments": {},
   "cell_type": "markdown",
   "metadata": {},
   "source": [
    "Following standard Object oriented principles our Generate class will have two methods. One to output a brand new solution and a Getter to get the current solution."
   ]
  },
  {
   "cell_type": "code",
   "execution_count": null,
   "metadata": {},
   "outputs": [],
   "source": [
    "import random\n",
    "\n",
    "class Generate():\n",
    "    def __init__(self):\n",
    "        self.num_vessels = 3\n",
    "        self.stops_per_route = 4\n",
    "        self.routes_np = None\n",
    "        self.stops = stops\n",
    "        self.stop_indices = list(range(0, len(stops)))\n",
    "        \n",
    "\n",
    "    def make_random_solution(self): # Generate initial solution\n",
    "        random.shuffle(self.stop_indices)\n",
    "        # divide the stops into sublists of length stops_per_route\n",
    "        routes = np.array_split(self.stop_indices, self.num_vessels)\n",
    "        self.routes_np = np.array(routes)\n",
    "        return self.routes_np\n",
    "    \n",
    "    @property # Getter, no need to access like a method()\n",
    "    def get_routes(self): # Can be called to obtain the current solution routes\n",
    "        if self.routes_np is None:\n",
    "            self.make_random_solution()\n",
    "        return self.routes_np\n",
    "\n",
    "generate = Generate() # Instantiate the Generate class\n"
   ]
  },
  {
   "attachments": {},
   "cell_type": "markdown",
   "metadata": {},
   "source": [
    "- Fitness function"
   ]
  },
  {
   "attachments": {},
   "cell_type": "markdown",
   "metadata": {},
   "source": [
    "*My Fitness function below returns a score by using the total distance traveled from the matrix  * standard deviation. This function will help to minimize both the total distance and the variability (standard deviation) of route lengths within the groups, hence allow us to evenly distribute route lengths amongst the groups.*"
   ]
  },
  {
   "cell_type": "code",
   "execution_count": null,
   "metadata": {},
   "outputs": [],
   "source": [
    "\n",
    "# Helper function to calculate the route distance of each stop for each route group\n",
    "def calc_route_distance(choosen_route):\n",
    "    total_distance = 0\n",
    "    route_distance_matrix = []\n",
    "    for i, stop in enumerate(choosen_route):\n",
    "        if i < len(choosen_route) - 1:\n",
    "            next_stop = choosen_route[i + 1]\n",
    "            route_distance_matrix.append((distance_matrix[stop][next_stop]))\n",
    "            total_distance += distance_matrix[stop][next_stop]\n",
    "    # Return back to the origin stop (Circuit)\n",
    "    total_distance += distance_matrix[choosen_route][-1][choosen_route][0]\n",
    "    route_distance_matrix.append((distance_matrix[choosen_route][-1][choosen_route][0]))\n",
    "    return total_distance,route_distance_matrix\n",
    "\n",
    "\n",
    " # Gets the fitness of a given route(s)\n",
    "def get_fitness(routes):\n",
    "    route_distance = []\n",
    "    \n",
    "    for route in routes:\n",
    "         #Returns the Route Distance(rd) for each group of 4, Returns Each Path Distance(epd)\n",
    "         rd,epd = calc_route_distance(route)\n",
    "         route_distance.append(rd)\n",
    "    \n",
    "    # Standard deviation - Shows the dispersement of distances, used to aid in fitness score\n",
    "\n",
    "    std_dev = np.std(route_distance) # Less then 1.0 means the route lengths are more or less even.\n",
    "    # \n",
    "    \n",
    "    \"\"\" \n",
    "    We decided not to use a weight, given that we should give equal weight to both route length and distance.\n",
    "    We discuss this in detail in our Conclusion.\n",
    "    We could have used: \n",
    "    weight = 100, where we give more dominance to the route distance, but decided against it for this scenario.\n",
    "    fitness_score = (weight * np.sum(route_distance)) * std_dev\n",
    "    \"\"\"\n",
    "    #Fitness score calculation, giving equal weight to both route distance and route length.\n",
    "    fitness_score =  np.sum(route_distance) * std_dev\n",
    "  \n",
    "    return route_distance,fitness_score,std_dev\n"
   ]
  },
  {
   "attachments": {},
   "cell_type": "markdown",
   "metadata": {},
   "source": [
    "Call the fitness function to print out the results of a random route. This is the timetable we will submit to the fitness function."
   ]
  },
  {
   "cell_type": "code",
   "execution_count": null,
   "metadata": {},
   "outputs": [],
   "source": [
    "# Get the random route\n",
    "\n",
    "random_route = generate.make_random_solution() \n",
    "\n",
    "print(\"Random 3 Route Generation \\n\", random_route) \n",
    "\n",
    "#Send the route to the fitness function\n",
    "route_distance,fitness_score,std_dev = get_fitness(random_route)\n",
    "\n",
    "print(\"3 Route Group Distances, including back to origin =\" , route_distance)\n",
    "print(\"Fitness Score (Minimizing, Lower is better) - (np.sum(route_distance) * std_dev)) =\"  , fitness_score)\n",
    "print(\"Standard deviation - Shows the dispersement of distances, closer to 0 indicates a more even route =\", std_dev)\n",
    "threshold = 1\n",
    "if std_dev < threshold:\n",
    "    print(\"\\nThe mean distances are approximately even.\")\n",
    "else:\n",
    "     print(\"\\nThe mean distances are not even.\")"
   ]
  },
  {
   "attachments": {},
   "cell_type": "markdown",
   "metadata": {},
   "source": [
    "## Task 2.2 Algorithm Implementation"
   ]
  },
  {
   "attachments": {},
   "cell_type": "markdown",
   "metadata": {},
   "source": [
    "- Define mutation operator class (Shuffle, Swap & Ruin-Recreate.)\n",
    "- Set up hillclimber local search to incrementally find the best solution\n",
    "- Print out 3 routes after 1 pass of the HillClimber with 30 iterations of perturbation."
   ]
  },
  {
   "cell_type": "code",
   "execution_count": null,
   "metadata": {},
   "outputs": [],
   "source": [
    "import copy #For deep copy of multidimensional arrays\n",
    "\n",
    "class Mutation_Operators():\n",
    "    def __init__(self):\n",
    "        pass\n",
    "    \n",
    "    def shuffle(self,solution): # Mutate a single group of 4 stops and shuffling their order\n",
    "        child = copy.deepcopy(solution)\n",
    "        random_group = np.random.randint(0,len(child))\n",
    "        np.random.shuffle(child[random_group])\n",
    "        return child\n",
    "        \n",
    "    \n",
    "    def swap(self,solution): # Pick two random stops from distinct groups and exchange their positions in the solution.\n",
    "        child = copy.deepcopy(solution)\n",
    "        group1, group2 = np.random.choice(range(len(child)), 2, replace=False)\n",
    "        pos1 = np.random.randint(0, len(child[group1]))\n",
    "        pos2 = np.random.randint(0, len(child[group2]))\n",
    "        child[group1][pos1], child[group2][pos2] = child[group2][pos2], child[group1][pos1]\n",
    "        return child\n",
    "  \n",
    "        \n",
    "    def ruin_and_recreate(self,best_solution): # Creates a new random solution from scratch\n",
    "        return generate.make_random_solution()\n",
    "        "
   ]
  },
  {
   "attachments": {},
   "cell_type": "markdown",
   "metadata": {},
   "source": [
    "- Test the mutations"
   ]
  },
  {
   "cell_type": "code",
   "execution_count": null,
   "metadata": {},
   "outputs": [],
   "source": [
    "random_solution = generate.make_random_solution()\n",
    "mo = Mutation_Operators()\n",
    "print(\"Random Solution: \\n\", random_solution)\n",
    "print(\"-----Swap-----\") \n",
    "print(mo.swap(random_solution))\n",
    "print(\"----Shuffle----\") \n",
    "print(mo.shuffle(random_solution))\n",
    "print(\"--Ruin-And-Recreate--\") \n",
    "print(mo.ruin_and_recreate(random_solution))"
   ]
  },
  {
   "attachments": {},
   "cell_type": "markdown",
   "metadata": {},
   "source": [
    "Prepare Hillclimber class\n",
    "\n",
    "- Create the hillclimber class with initial random solutions\n",
    "- Loop over all operators (each for 30 times)\n",
    "- Compare the solutions i.e. if child_fitness < self.best_fitness:\n",
    "- Save all child solutions, fitness, standard deviations, operator names in to an Archive \"fit\"\n",
    "- Save the best solutions for each run in  \"best_overall\" \n",
    "- Save some aggregations to be used later in \"agg\" (used for plotting)"
   ]
  },
  {
   "cell_type": "code",
   "execution_count": null,
   "metadata": {},
   "outputs": [],
   "source": [
    "import copy # For deep copying\n",
    "pd.set_option('display.max_rows',5)\n",
    "\n",
    "class HillClimber():\n",
    "    def __init__(self):\n",
    "        # Instantiate the class containing the operators\n",
    "        self.mo = Mutation_Operators()\n",
    "        \n",
    "        # Generate initial random solution and initial fitness for each operator starting point\n",
    "        self.initial_random_solution = generate.make_random_solution()    \n",
    "        self.best_solution = copy.deepcopy(self.initial_random_solution)\n",
    "        self.route_distance,self.fitness_score,self.std_dev = get_fitness(self.best_solution)\n",
    "        self.initial_std_dev = copy.deepcopy(self.std_dev)\n",
    "        self.initial_fitness = np.sum(self.fitness_score)\n",
    "        self.best_fitness = copy.deepcopy(self.initial_fitness)\n",
    "        self.best_overall = []\n",
    "   \n",
    "        # Define the operator list\n",
    "        self.operator_list =  [\n",
    "                                {\"label\" : \"Swap\", \"operator\" : self.mo.swap},\n",
    "                                {\"label\" : \"Shuffle\", \"operator\" : self.mo.shuffle},\n",
    "                                {\"label\" : \"Ruin and Create\", \"operator\" : self.mo.ruin_and_recreate},     \n",
    "                        ]\n",
    "    \n",
    "        \n",
    "    def runMutationOperators(self,operatorIterations):\n",
    "        fit = []\n",
    "        self.best_overall = []\n",
    "\n",
    "        for operator in self.operator_list: \n",
    "            label = operator[\"label\"]\n",
    "            mutation_operator = operator[\"operator\"] \n",
    "            fit.append((label,0,self.initial_random_solution,self.route_distance,self.initial_std_dev,self.initial_fitness,self.best_fitness))\n",
    "            \n",
    "            for _ in range(operatorIterations):\n",
    "                child_solution = mutation_operator(self.best_solution)\n",
    "                route_distance,self.fitness_score,self.std_dev = get_fitness(child_solution)\n",
    "                child_fitness = np.sum(self.fitness_score)\n",
    "               \n",
    "                                          \n",
    "                if child_fitness < self.best_fitness:\n",
    "                    # print(\"CHILD Won\", child_fitness, \"VS\", self.best_fitness)\n",
    "                    self.best_solution = copy.deepcopy(child_solution)\n",
    "                    self.best_fitness = copy.deepcopy(child_fitness)\n",
    "                # else:\n",
    "                    # print(\"PARENT Won\", self.best_fitness, \"VS\", child_fitness)\n",
    "                fit.append((label,_,child_solution,route_distance,self.std_dev,child_fitness,self.best_fitness))\n",
    "            \n",
    "            calc_best = get_fitness(self.best_solution)\n",
    "            self.best_overall.append((label,self.best_fitness,self.best_solution,calc_best[0],calc_best[2]))\n",
    "            # Reset Solutions & Fitness for next operator to initial random values\n",
    "            self.best_solution = copy.deepcopy(self.initial_random_solution)\n",
    "            self.best_fitness = copy.deepcopy(self.initial_fitness)\n",
    "        return fit,self.best_overall\n",
    "            \n",
    "\n",
    "    \n",
    "    def runHillClimber(self,operatorIterations):\n",
    "        columns=[\"Mutation\", \"Round #\", \"Solution\",\"Route Distance\", \"Standard Dev\", \"Fitness score\", \"Best Fitness\"]\n",
    "        fit,best= self.runMutationOperators(operatorIterations)\n",
    "        agg = pd.DataFrame(fit, columns=columns)\n",
    "        agg = agg.groupby([\"Mutation\"])[\"Fitness score\"].agg([\"max\", \"min\", \"mean\"]).reset_index().values.ravel()\n",
    "        return fit,best,agg\n",
    "       \n",
    "    "
   ]
  },
  {
   "attachments": {},
   "cell_type": "markdown",
   "metadata": {},
   "source": [
    "### Run the hillclimber \n",
    "\n",
    "What was the best solution and best score for each operator?\n",
    "\n",
    "*Re-run this to view different results each time*\n",
    "\n",
    "We have including a **ASSERT Unit Test**, in order to test if the solution is sub-optimal. No Assertion is good! If an error is generated, re run the scenario."
   ]
  },
  {
   "cell_type": "code",
   "execution_count": null,
   "metadata": {},
   "outputs": [],
   "source": [
    "pd.set_option('display.max_rows', None)\n",
    "hc = HillClimber()\n",
    "operatorIterations = 30\n",
    "fit,best_overall,_ = hc.runHillClimber(operatorIterations)\n",
    "title = f\"Best Overall for 1 runs and {operatorIterations} mutation runs each\"\n",
    "print(title)\n",
    "print(\"-\" * len(title))\n",
    "best_overall_df = pd.DataFrame(best_overall,columns=[\"Mutation\",\"Best Fitness Score\", \"Best Route Solution\",\"Route Distance\", \"Std_dev\"])\n",
    "sorted = best_overall_df.sort_values(by='Best Fitness Score')\n",
    "display(sorted)\n",
    "print(f\"{sorted.iloc[0]['Mutation']} was the best operator with a score of {sorted.iloc[0]['Best Fitness Score']}\")\n",
    "\n",
    "# Asserts (Unit Test) if the Standard Deviation is greater then 1.\n",
    "# which indicates the multiple objectives were not met.\n",
    "assert sorted.iloc[0][\"Std_dev\"] <= 1.00 , \"Poor solution, please regenerate\"\n"
   ]
  },
  {
   "attachments": {},
   "cell_type": "markdown",
   "metadata": {},
   "source": [
    "- Plot of 1 run with 30 mutations showing a minimizing fitness score."
   ]
  },
  {
   "cell_type": "code",
   "execution_count": null,
   "metadata": {},
   "outputs": [],
   "source": [
    "column_headings = [\"Mutation\", \"Round #\", \"Solution\",\"Route Distance\" ,\"Standard Dev\", \"Fitness score\", \"Best Fitness\"]\n",
    "dataframe = pd.DataFrame(fit,columns=column_headings)\n",
    "# display(dataframe)\n",
    "operators = dataframe[\"Mutation\"].unique()\n",
    "for operator in operators:\n",
    "    operator_data = dataframe[dataframe[\"Mutation\"] == operator]\n",
    "    plt.plot(operator_data[\"Round #\"], operator_data[\"Best Fitness\"], label=operator)\n",
    "    \n",
    "    min_fitness_idx = operator_data[\"Fitness score\"].idxmin()\n",
    "    min_fitness_row = operator_data.loc[min_fitness_idx]\n",
    "    \n",
    "    plt.scatter(min_fitness_row[\"Round #\"], min_fitness_row[\"Fitness score\"], marker=\"o\", s=100)\n",
    "    plt.text(min_fitness_row[\"Round #\"] + 0.1, min_fitness_row[\"Fitness score\"], f\"{min_fitness_row['Best Fitness']}\")\n",
    "\n",
    "plt.xlabel(\"No of mutations\")\n",
    "plt.ylabel(\"Best Fitness (lower is better)\")\n",
    "plt.title(\"1 run, 30 mutations of each operator\", fontsize=16)\n",
    "plt.legend()"
   ]
  },
  {
   "attachments": {},
   "cell_type": "markdown",
   "metadata": {},
   "source": [
    "Based on the Plot and the Dataframe above, I believe the optimizer is producing a sensible solution due to the decreasing fitness score.  It is possible that the operators leave some mutations stuck in a local optima (shuffle in my recent testing), while others like the swap are able to find the global optima. "
   ]
  },
  {
   "attachments": {},
   "cell_type": "markdown",
   "metadata": {},
   "source": [
    "### View Fitness Archive\n",
    "\n",
    "View all 90 mutations and their Score. (The \"fit\" variable contains the ARCHIVE of all the data)\n",
    "- 30 Rounds each excluding the initial random solution\n",
    "- Showing the Fitness score of the child as well as the current best Fitness.\n",
    "- This data will be used in the Visualization of results section"
   ]
  },
  {
   "cell_type": "code",
   "execution_count": null,
   "metadata": {},
   "outputs": [],
   "source": [
    "column_headings = [\"Mutation\", \"Round #\", \"Solution\",\"Route Distance\",\"Standard Dev\", \"Fitness score\", \"Best Fitness\"]\n",
    "dataframe = pd.DataFrame(fit,columns=column_headings)\n",
    "dataframe"
   ]
  },
  {
   "attachments": {},
   "cell_type": "markdown",
   "metadata": {},
   "source": [
    "## Task 2.3 Visualisation of results"
   ]
  },
  {
   "attachments": {},
   "cell_type": "markdown",
   "metadata": {},
   "source": [
    "We will plot two graphs to demonstrate the comparison between each mutator and display the average, maximum and minimum fitness at each iteration. We will run the algorithm 500 times with a different initial solution. Allow 30-45 seconds to run.\n",
    " - Bar Chart\n",
    " - Box Plot"
   ]
  },
  {
   "cell_type": "code",
   "execution_count": null,
   "metadata": {},
   "outputs": [],
   "source": [
    "operatorIterations = 30 # 30 mutation iterations for each operator\n",
    "algoIterations = 500 # Repeat 500 times\n",
    "arr = [] # Holds the fitness,max,min,avg from each iteration\n",
    "best_sol = []\n",
    "columns=([\"Mutation\",\"Best Fitness Score\", \"Best Route Solution\",\"Route Distance\", \"Std_dev\"])\n",
    "\n",
    "# Loop the entire algorithm 500 times, append the best solution\n",
    "# Call the hill climber class, return the best solutions for each opertor iteration\n",
    "hc = HillClimber() # Instantiate the class outside of the loop, gets a new random solution for each iteration (500) \n",
    "for i in range(algoIterations): \n",
    "    _,best,agg = hc.runHillClimber(operatorIterations)\n",
    "    best_df = pd.DataFrame(best,columns=[\"Mutation\",\"Best Fitness Score\", \"Best Route Solution\",\"Route Distance\", \"Std_dev\"])\n",
    "    best_df = best_df.sort_values(by='Best Fitness Score')\n",
    "    best_sol.append(best_df.iloc[0,0])\n",
    "    arr.append(agg)\n",
    "arr = np.array(arr)\n",
    "\n",
    "operators = arr[0, np.arange(0, arr.shape[1], 4)]\n",
    "\n",
    "# get the minimum, maximum, and mean values for each operator\n",
    "min_values = arr[:, np.arange(2, arr.shape[1], 4)].astype(float)\n",
    "max_values = arr[:, np.arange(1, arr.shape[1], 4)].astype(float)\n",
    "mean_values = arr[:, np.arange(3, arr.shape[1], 4)].astype(float)\n",
    "\n",
    "# create a grouped bar plot of the minimum, maximum, and mean values for each operator\n",
    "fig, ax = plt.subplots(figsize=(8, 6))\n",
    "bar_width = 0.2\n",
    "x = np.arange(len(operators))\n",
    "ax.bar(x-bar_width, min_values.mean(axis=0), width=bar_width, label='Minimum')\n",
    "ax.bar(x, max_values.mean(axis=0), width=bar_width, label='Maximum')\n",
    "ax.bar(x+bar_width, mean_values.mean(axis=0), width=bar_width, label='Mean')\n",
    "ax.set_xticks(x)\n",
    "ax.set_xticklabels(operators)\n",
    "ax.set_ylabel('Fitness, lower is better')\n",
    "ax.legend()\n",
    "ax.set_title('Min, Max, and Mean Fitness Averages for 500 iterations')\n",
    "\n",
    "# add text labels to the bars\n",
    "for i, val in enumerate(min_values.mean(axis=0)):\n",
    "    ax.text(i-bar_width, val+10, '{:.2f}'.format(val))\n",
    "for i, val in enumerate(max_values.mean(axis=0)):\n",
    "    ax.text(i, val+10, '{:.2f}'.format(val))\n",
    "for i, val in enumerate(mean_values.mean(axis=0)):\n",
    "    ax.text(i+bar_width, val+10, '{:.2f}'.format(val))\n",
    "plt.show()"
   ]
  },
  {
   "attachments": {},
   "cell_type": "markdown",
   "metadata": {},
   "source": [
    "Box Plot"
   ]
  },
  {
   "cell_type": "code",
   "execution_count": null,
   "metadata": {},
   "outputs": [],
   "source": [
    "concat_data = np.vstack(arr)\n",
    "\n",
    "# Reshape the concatenated data to have 4 columns\n",
    "reshaped_data = concat_data.reshape(-1, 4)\n",
    "\n",
    "# Create a DataFrame\n",
    "cols = ['Operator', 'max_fitness', 'min_fitness', 'avg_fitness']\n",
    "df = pd.DataFrame(reshaped_data, columns=cols)\n",
    "df[['max_fitness', 'min_fitness', 'avg_fitness']] = df[['max_fitness', 'min_fitness', 'avg_fitness']].astype(float)\n",
    "\n",
    "# Prepare data for the box plot\n",
    "operators = df['Operator'].unique()\n",
    "num_operators = len(operators)\n",
    "grouped = df.groupby('Operator')\n",
    "\n",
    "# Create a list of  statistics for each operator\n",
    "summary_data = []\n",
    "for op in operators:\n",
    "    group = grouped.get_group(op)\n",
    "    summary = [group['max_fitness'].mean(), group['min_fitness'].mean(), group['avg_fitness'].mean()]\n",
    "    summary_data.append(summary)\n",
    "\n",
    "# Plot\n",
    "fig, ax = plt.subplots(figsize=(16, 12))\n",
    "bp = ax.boxplot(summary_data, patch_artist=True, labels=operators)\n",
    "\n",
    "# Set colors for box plots\n",
    "colors = ['blue', 'orange', 'green']\n",
    "for patch, color in zip(bp['boxes'], colors):\n",
    "    patch.set_facecolor(color)\n",
    "    \n",
    "for i, (op, summary) in enumerate(zip(operators, summary_data)):\n",
    "    max_val = np.max(summary)\n",
    "    min_val = np.min(summary)\n",
    "    ax.annotate(f'Max: {max_val:.2f}', xy=(i+1.1, max_val), xytext=(i+1.1, max_val), fontsize=10)\n",
    "    ax.annotate(f'Min: {min_val:.2f}', xy=(i+1.1, min_val), xytext=(i+1.1, min_val), fontsize=10)\n",
    "    \n",
    "\n",
    "ax.set_xlabel('Operator')\n",
    "ax.set_ylabel('Fitness, lower is better')\n",
    "ax.set_title('Min, Max, and Mean Fitness Averages for 500 iterations for each operator')\n",
    "\n",
    "\n",
    "plt.show()"
   ]
  },
  {
   "attachments": {},
   "cell_type": "markdown",
   "metadata": {},
   "source": [
    "# Conclusion"
   ]
  },
  {
   "attachments": {},
   "cell_type": "markdown",
   "metadata": {},
   "source": [
    "From the above two graphs we can deduce the following:\n",
    "\n",
    "- In all circumstances, ruin & create destroy the previous solution, even if the parent solution has a improved fitness score.  The solution does not necessarily get better overtime, however as you can see from the Box plot, the minimums for Ruin & Create is on par with Swap and even better then Shuffle, but why? This could be because Ruin & Create is able to escape the *local optima* and explore different regions of the search space, and may randomly reach a *global optima.* However this mutation is generally not recommend on its own.\n",
    "\n",
    "- Shuffle & Swap both have a lower mean fitness then Ruin & Create, however due to Shuffles limited perturbation, this causes it to sink into a local optima without escape, which is why you see a higher minimum then Swap.\n",
    "\n",
    "- In this example during my tests I found **Swap** to be the best optimizer due to the fact that its overall mean and min fitness after 500 iterations, each staring from a random solution always generated a lower score then the other two optimizers. **\n",
    "  \n",
    "In our test, *Swap* reached a fitness score of about 44 calculated at *np.sum(route_distance) * std_dev*  ensuring that both objectives have been minimized i.e. the travel distance and the evenness of the length. Going forward we can safely assume that in order to calculate the best solution, swap would be the optimal operator to use.\n",
    "\n",
    "Overall, while the Hillclimber is a simple method for optimization for our small dataset, it will usually fall into a local optima and may lead to a suboptimal solution, there is no guarantee of reaching a global optimum. One solution to this is using Crossover which combines genes from two or more parents to escape from these deep dark valleys.\n",
    "\n",
    "**It is possible that our fitness function has a trade off between equal route length and route distance as this was a Multi-objective optimization problem. In our fitness function we gave equal weight to both distance and route length, *np.sum(route_distance) * std_dev*.  A more optimal solution could have been to add a weighting to one objective, without one objective dominating another. A good solution for route distance, maybe a poor solution for route length and vice versa. \n",
    "\n",
    "\n",
    "\n",
    "\n"
   ]
  }
 ],
 "metadata": {
  "kernelspec": {
   "display_name": "Python 3",
   "language": "python",
   "name": "python3"
  },
  "language_info": {
   "codemirror_mode": {
    "name": "ipython",
    "version": 3
   },
   "file_extension": ".py",
   "mimetype": "text/x-python",
   "name": "python",
   "nbconvert_exporter": "python",
   "pygments_lexer": "ipython3",
   "version": "3.10.11"
  },
  "orig_nbformat": 4
 },
 "nbformat": 4,
 "nbformat_minor": 2
}
