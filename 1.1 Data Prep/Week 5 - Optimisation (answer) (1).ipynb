{
 "cells": [
  {
   "attachments": {},
   "cell_type": "markdown",
   "id": "de3f496e",
   "metadata": {},
   "source": [
    "### Exercise 1 - OneMax"
   ]
  },
  {
   "cell_type": "code",
   "execution_count": null,
   "id": "d629cebb",
   "metadata": {},
   "outputs": [],
   "source": [
    "import numpy as np\n",
    "import matplotlib.pyplot as plt"
   ]
  },
  {
   "attachments": {},
   "cell_type": "markdown",
   "id": "3290fbab",
   "metadata": {},
   "source": [
    "Fitness function"
   ]
  },
  {
   "cell_type": "code",
   "execution_count": null,
   "id": "c8faed60",
   "metadata": {},
   "outputs": [],
   "source": [
    "def onemax(x):\n",
    "    return x.sum()"
   ]
  },
  {
   "cell_type": "code",
   "execution_count": null,
   "id": "000d5a9c",
   "metadata": {},
   "outputs": [],
   "source": [
    "class BitFlipMutation:\n",
    "    def mutate(self, x):\n",
    "        idx = np.random.randint(x.shape[0])\n",
    "        xp = x.copy()\n",
    "        xp[idx] = abs(1-x[idx])\n",
    "        return xp"
   ]
  },
  {
   "cell_type": "code",
   "execution_count": null,
   "id": "962da8a4",
   "metadata": {},
   "outputs": [],
   "source": [
    "def evolve(x, y, func, mutation, compare, A):\n",
    "    xp = mutation.mutate(x)\n",
    "    yp = func(xp)\n",
    "    if not compare(y, yp):\n",
    "        x,y = xp, yp\n",
    "    A.append(y)\n",
    "    return x, y, A"
   ]
  },
  {
   "cell_type": "code",
   "execution_count": null,
   "id": "b95adde3",
   "metadata": {},
   "outputs": [],
   "source": [
    "def greaterThanOrEqual(u,v):\n",
    "    return u >= v"
   ]
  },
  {
   "cell_type": "code",
   "execution_count": null,
   "id": "650f2831",
   "metadata": {},
   "outputs": [],
   "source": [
    "def optimise(D, func, mutation, ngens, compare):\n",
    "    x = np.random.randint(0,2,D)\n",
    "    y = func(x)\n",
    "    archive = []\n",
    "    for gen in range(ngens):\n",
    "        x, y, archive = evolve(x, y, func, mutation, compare, archive)\n",
    "    return x, y, archive"
   ]
  },
  {
   "cell_type": "code",
   "execution_count": null,
   "id": "fb3c748a",
   "metadata": {},
   "outputs": [],
   "source": [
    "x, y, ylist = optimise(10, onemax, BitFlipMutation(), 50, greaterThanOrEqual)\n",
    "print(x, y)\n",
    "print(ylist)\n",
    "plt.plot(ylist)\n",
    "plt.show()"
   ]
  },
  {
   "cell_type": "code",
   "execution_count": null,
   "id": "6ebb3336",
   "metadata": {},
   "outputs": [],
   "source": [
    "group_distances = [1,2,3,4]\n",
    "group_std_deviation = np.std(group_distances)\n",
    "print(group_std_deviation)"
   ]
  },
  {
   "attachments": {},
   "cell_type": "markdown",
   "id": "baf259b7",
   "metadata": {},
   "source": [
    "### Exercise 2\n",
    "\n",
    "Having run the optimiser once, you should run it multiple times (at least ten) to see what the average fitness is. Produce a plot like the one from the end of Exercise 1, but show the average fitness at each iteration."
   ]
  },
  {
   "cell_type": "code",
   "execution_count": null,
   "id": "81294ff1",
   "metadata": {},
   "outputs": [],
   "source": [
    "NTIMES = 10\n",
    "ylists = []\n",
    "for _ in range(NTIMES):\n",
    "    _, _, ylist = optimise(10, onemax, BitFlipMutation(), 50, greaterThanOrEqual)\n",
    "    ylists.append(ylist)\n",
    "ylists = np.array(ylists)\n",
    "averages = np.mean(ylists,axis=0)\n",
    "plt.figure()\n",
    "plt.plot(averages)\n",
    "plt.show()"
   ]
  },
  {
   "attachments": {},
   "cell_type": "markdown",
   "id": "93ca0986",
   "metadata": {},
   "source": [
    "### Exercise 3\n",
    "Implement another two mutation operators:\n",
    "* One should randomly create a new solution from scratch.\n",
    "* The other should pick two bits, and flip each bit between the two.\n",
    "\n",
    "Run your optimiser for at least ten repeats, for each of the three mutation operators. You should make the problem harder than before – do this by optimising a 50-bit version of the problem instead of 10. Plot the average fitness for each mutation operator so that you can see the different performance they cause."
   ]
  },
  {
   "cell_type": "code",
   "execution_count": null,
   "id": "4fc8edb2",
   "metadata": {},
   "outputs": [],
   "source": [
    "class RandomMutation:\n",
    "    def mutate(self, x):\n",
    "        return np.random.randint(0,2,len(x))"
   ]
  },
  {
   "cell_type": "code",
   "execution_count": null,
   "id": "ae3f87d4",
   "metadata": {},
   "outputs": [],
   "source": [
    "class BlockFlipMutation:\n",
    "    def mutate(self, x):\n",
    "        xp = x.copy()\n",
    "        i = np.random.randint(xp.shape[0])\n",
    "        j = np.random.randint(xp.shape[0])\n",
    "        if i>j:\n",
    "            i,j = j,i\n",
    "        while i<j:\n",
    "            xp[i] = abs(1-xp[i])\n",
    "            i += 1\n",
    "        return xp"
   ]
  },
  {
   "cell_type": "code",
   "execution_count": null,
   "id": "040b422a",
   "metadata": {},
   "outputs": [],
   "source": [
    "NTIMES = 10\n",
    "Dimension = 50\n",
    "mutationOps = [BitFlipMutation(), BlockFlipMutation(), RandomMutation()]\n",
    "\n",
    "plt.figure()\n",
    "\n",
    "ylists = []\n",
    "avgs = []\n",
    "for mutationOp in mutationOps:\n",
    "    for _ in range(NTIMES):\n",
    "        _, _, ylist = optimise(Dimension, onemax, mutationOp, 200, greaterThanOrEqual)\n",
    "        ylists.append(ylist)\n",
    "    averages = np.mean(np.array(ylists), axis=0)\n",
    "    plt.plot(averages, label=type(mutationOp).__name__[:-8])\n",
    "\n",
    "plt.title(\"OneMax\")\n",
    "plt.xlabel(\"Iteration\")\n",
    "plt.ylabel(\"Fitness (maximise)\")\n",
    "plt.legend()\n",
    "\n",
    "plt.show()"
   ]
  },
  {
   "attachments": {},
   "cell_type": "markdown",
   "id": "9992028a",
   "metadata": {},
   "source": [
    "### Exercise 4\n",
    "Another similar benchmark problem is the LeadingOnes problem. This optimises the number of bits that are set to 1 before a 0 is encountered. The optimal solution is the same as for the OneMax problem, but again the optimiser doesn’t know that. It simply follows its optimisation heuristics to try and learn it.\n",
    "\n",
    "Implement a fitness function like the onemax function you were provided with and repeat Exercise 3 with it for the LeadingOnes problem. "
   ]
  },
  {
   "cell_type": "code",
   "execution_count": null,
   "id": "53af3547",
   "metadata": {},
   "outputs": [],
   "source": [
    "def leadingone(x):\n",
    "    r = np.argmin(x)\n",
    "    if r==0:\n",
    "        return len(x) if x[0]==1 else 0\n",
    "    else:\n",
    "        return r"
   ]
  },
  {
   "cell_type": "code",
   "execution_count": null,
   "id": "554b9ddb",
   "metadata": {},
   "outputs": [],
   "source": [
    "# Note the increased number of iterations\n",
    "NTIMES = 10\n",
    "Dimension = 50\n",
    "mutationOps = [BitFlipMutation(), BlockFlipMutation(), RandomMutation()]\n",
    "\n",
    "plt.figure()\n",
    "\n",
    "ylists = []\n",
    "avgs = []\n",
    "for mutationOp in mutationOps:\n",
    "    for _ in range(NTIMES):\n",
    "        _, _, ylist = optimise(Dimension, leadingone, mutationOp, 2000, greaterThanOrEqual)\n",
    "        ylists.append(ylist)\n",
    "    averages = np.mean(np.array(ylists), axis=0)\n",
    "    plt.plot(averages, label=type(mutationOp).__name__[:-8])\n",
    "\n",
    "plt.title(\"LeadingOnes\")\n",
    "plt.xlabel(\"Iteration\")\n",
    "plt.ylabel(\"Fitness (maximise)\")\n",
    "plt.legend()\n",
    "\n",
    "plt.show()"
   ]
  },
  {
   "cell_type": "code",
   "execution_count": null,
   "id": "a40a522b",
   "metadata": {},
   "outputs": [],
   "source": []
  }
 ],
 "metadata": {
  "kernelspec": {
   "display_name": "Python 3 (ipykernel)",
   "language": "python",
   "name": "python3"
  },
  "language_info": {
   "codemirror_mode": {
    "name": "ipython",
    "version": 3
   },
   "file_extension": ".py",
   "mimetype": "text/x-python",
   "name": "python",
   "nbconvert_exporter": "python",
   "pygments_lexer": "ipython3",
   "version": "3.10.11"
  }
 },
 "nbformat": 4,
 "nbformat_minor": 5
}
